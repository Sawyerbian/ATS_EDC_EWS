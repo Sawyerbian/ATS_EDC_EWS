{
 "cells": [
  {
   "cell_type": "code",
   "execution_count": 1,
   "metadata": {},
   "outputs": [],
   "source": [
    "import pandas as pd\n",
    "import numpy as np\n",
    "from glob import glob\n",
    "import os\n",
    "from pathlib import Path\n",
    "from datetime import date\n",
    "import json\n",
    "import time\n",
    "from config import *\n",
    "from send_mail import send_report\n",
    "from itertools import product\n",
    "from datetime import datetime, timedelta\n",
    "xlsx_dir_path = r\"\\\\bosch.com\\dfsRB\\DfsCN\\loc\\WX4\\Dept\\TER\\10_QMM\\13 QMC\\14 Reporting\\00 Monthly quality reports\\PowerBi\\Customer 2023\\Able to clean customers\\Final_Output_folder\""
   ]
  },
  {
   "cell_type": "code",
   "execution_count": null,
   "metadata": {},
   "outputs": [],
   "source": [
    "Customer_summary_Output_By_FailMonth = pd.read_excel(os.path.join(xlsx_dir_path,\"Customer_summary_Output_By_FailMonth.xlsx\"))\n",
    "Customer_summary_Output_By_FailMonth = Customer_summary_Output_By_FailMonth[Customer_summary_Output_By_FailMonth.Fail_Month.notna()]\n",
    "Customer_summary_Output_By_FailMonth.loc[:,\"Totol_Cost_Sum\"] = Customer_summary_Output_By_FailMonth.loc[:,\"Totol_Cost_Sum\"].fillna(0)\n",
    "Customer_summary_Output_By_FailMonth = Customer_summary_Output_By_FailMonth[Customer_summary_Output_By_FailMonth.loc[:,\"Material\"].apply(lambda x:len(str(x))==12)]  # EXCLUDE [\"非RBCW产品\",NAN]\n",
    "Customer_summary_Output_By_FailMonth.loc[:,\"year\"] = Customer_summary_Output_By_FailMonth.loc[:,\"Fail_Month\"].apply(lambda x:int(str(x)[:4]))\n",
    "Customer_summary_Output_By_FailMonth.to_excel(os.path.join(xlsx_dir_path,\"Customer_summary_Output_By_FailMonth_detail.xlsx\"))\n",
    "Customer_summary_Output_By_FailYear = Customer_summary_Output_By_FailMonth.dropna(subset=\"TNS_Year\")\n",
    "Customer_summary_Output_By_FailYear = Customer_summary_Output_By_FailYear.drop_duplicates(subset=[\"Customer_Name\", \"Material\",\"year\"])\n",
    "Customer_summary_Output_By_FailYear = Customer_summary_Output_By_FailYear.loc[:,[\"Customer_Name\", \"year\", \"TNS_Year\"]]\n",
    "Customer_summary_Output_By_FailYear = Customer_summary_Output_By_FailYear.groupby(by=[\"Customer_Name\",\"year\"]).sum()\n",
    "Customer_summary_Output_By_FailMonth_year_cost = Customer_summary_Output_By_FailMonth[[\"Customer_Name\",\"Totol_Cost_Sum\",\"year\"]].groupby(by=[\"Customer_Name\",\"year\"]).sum()\n",
    "Customer_summary_Output_By_FailMonth_year_edc = Customer_summary_Output_By_FailMonth_year_cost.merge(Customer_summary_Output_By_FailYear, left_index=True,right_index=True,how=\"right\")\n",
    "# Customer_summary_Output_By_FailMonth_year_edc.loc[:,\"TNS\"] = Customer_summary_Output_By_FailMonth_year_edc.loc[:,\"TNS\"].apply(lambda x:np.abs(x))\n",
    "Customer_summary_Output_By_FailMonth_year_edc.loc[:,\"edc\"] = Customer_summary_Output_By_FailMonth_year_edc.loc[:,\"Totol_Cost_Sum\"]/ Customer_summary_Output_By_FailMonth_year_edc.loc[:,\"TNS_Year\"]\n",
    "Customer_summary_Output_By_FailMonth_year_edc.loc[:,\"current_year\"] = date.today().year\n",
    "Customer_summary_Output_By_FailMonth_year_edc.loc[:,\"current_month\"] = date.today().month\n",
    "def filter_month(current_month : int):\n",
    "    if date.today().day > 20:\n",
    "        return current_month\n",
    "    else:\n",
    "        return current_month - 1\n",
    "\n",
    "Customer_summary_Output_By_FailMonth_year_edc.loc[:,\"current_month\"] = Customer_summary_Output_By_FailMonth_year_edc.loc[:,\"current_month\"].apply(lambda x:filter_month(x))\n",
    "Customer_summary_Output_By_FailMonth_year_edc = Customer_summary_Output_By_FailMonth_year_edc[Customer_summary_Output_By_FailMonth_year_edc.index.get_level_values(\"year\") == Customer_summary_Output_By_FailMonth_year_edc.current_year]\n",
    "Customer_summary_Output_By_FailMonth_year_edc = Customer_summary_Output_By_FailMonth_year_edc[Customer_summary_Output_By_FailMonth_year_edc.edc > EDC]\n",
    "Customer_summary_Output_By_FailMonth_year_edc.loc[:,\"edc\"] = Customer_summary_Output_By_FailMonth_year_edc.loc[:,\"edc\"].apply(lambda x:float(x * 100))\n",
    "Customer_summary_Output_By_FailMonth_year_edc.loc[:,\"edc\"] = Customer_summary_Output_By_FailMonth_year_edc.loc[:,\"edc\"].apply(lambda x:np.round(x,2).astype(str) + ' %')\n",
    "\n",
    "Customer_summary_Output_By_FailMonth_year_edc.to_excel(os.path.join(xlsx_dir_path,\"Customer_summary_Output_By_FailMonth_year_edc.xlsx\"))\n",
    "Customer_summary_Output_By_FailMonth_year_edc = Customer_summary_Output_By_FailMonth_year_edc.reset_index()\n",
    "\n",
    "for customer in Customer_summary_Output_By_FailMonth_year_edc.Customer_Name.unique():\n",
    "    customer_df = Customer_summary_Output_By_FailMonth_year_edc[Customer_summary_Output_By_FailMonth_year_edc.Customer_Name == customer]\n",
    "    report_text = \"\\n\"\n",
    "    report_list= []\n",
    "    for json_data in json.loads(customer_df.to_json(orient='records')):\n",
    "        Customer_Name = json_data[\"Customer_Name\"]\n",
    "        # Product_Name = json_data[\"Product_Name\"]\n",
    "        current_year = json_data[\"year\"]\n",
    "        current_month = json_data[\"current_month\"]\n",
    "        break\n",
    "    report_tuple = tuple(report_list)\n",
    "    report_text = report_text.join(report_tuple)\n",
    "    df2 = Customer_summary_Output_By_FailMonth[Customer_summary_Output_By_FailMonth.Customer_Name == customer]\n",
    "    send_report(Subject=\"EDC Warning\",content_1=f\"您好， {Customer_Name}客户,{current_year}年{current_month}月YTD, 已超过公司质量目标，请调查原因及制定改善措施，谢谢。\",df=customer_df, df2=df2, to_all=True)\n",
    "    time.sleep(10)\n",
    "Customer_summary_Output_By_FailMonth_year_edc\n"
   ]
  },
  {
   "cell_type": "code",
   "execution_count": null,
   "metadata": {},
   "outputs": [],
   "source": [
    "Customer_summary_Output_By_FailMonth_year_edc"
   ]
  },
  {
   "cell_type": "code",
   "execution_count": null,
   "metadata": {},
   "outputs": [
    {
     "name": "stderr",
     "output_type": "stream",
     "text": [
      "C:\\Users\\bih1wx\\AppData\\Local\\Temp\\ipykernel_200\\1616074837.py:11: UserWarning: Boolean Series key will be reindexed to match DataFrame index.\n",
      "  row_df = row_df[Customer_summary_Output_By_FailMonth.month == filter_month(date.today().month)]\n",
      "send: 'ehlo SZHM-C-0017Y.wx.apac.bosch.com\\r\\n'\n",
      "reply: b'250-FE-MBX2075.de.bosch.com Hello [10.35.29.9]\\r\\n'\n",
      "reply: b'250-SIZE 37748736\\r\\n'\n",
      "reply: b'250-PIPELINING\\r\\n'\n",
      "reply: b'250-DSN\\r\\n'\n",
      "reply: b'250-ENHANCEDSTATUSCODES\\r\\n'\n",
      "reply: b'250-STARTTLS\\r\\n'\n",
      "reply: b'250-X-ANONYMOUSTLS\\r\\n'\n",
      "reply: b'250-AUTH NTLM\\r\\n'\n",
      "reply: b'250-X-EXPS GSSAPI NTLM\\r\\n'\n",
      "reply: b'250-8BITMIME\\r\\n'\n",
      "reply: b'250-BINARYMIME\\r\\n'\n",
      "reply: b'250-CHUNKING\\r\\n'\n",
      "reply: b'250 XRDST\\r\\n'\n",
      "reply: retcode (250); Msg: b'FE-MBX2075.de.bosch.com Hello [10.35.29.9]\\nSIZE 37748736\\nPIPELINING\\nDSN\\nENHANCEDSTATUSCODES\\nSTARTTLS\\nX-ANONYMOUSTLS\\nAUTH NTLM\\nX-EXPS GSSAPI NTLM\\n8BITMIME\\nBINARYMIME\\nCHUNKING\\nXRDST'\n",
      "send: 'STARTTLS\\r\\n'\n",
      "reply: b'220 2.0.0 SMTP server ready\\r\\n'\n",
      "reply: retcode (220); Msg: b'2.0.0 SMTP server ready'\n",
      "send: 'ehlo SZHM-C-0017Y.wx.apac.bosch.com\\r\\n'\n",
      "reply: b'250-FE-MBX2075.de.bosch.com Hello [10.35.29.9]\\r\\n'\n",
      "reply: b'250-SIZE 37748736\\r\\n'\n",
      "reply: b'250-PIPELINING\\r\\n'\n",
      "reply: b'250-DSN\\r\\n'\n",
      "reply: b'250-ENHANCEDSTATUSCODES\\r\\n'\n",
      "reply: b'250-AUTH NTLM LOGIN\\r\\n'\n",
      "reply: b'250-X-EXPS GSSAPI NTLM\\r\\n'\n",
      "reply: b'250-8BITMIME\\r\\n'\n",
      "reply: b'250-BINARYMIME\\r\\n'\n",
      "reply: b'250-CHUNKING\\r\\n'\n",
      "reply: b'250 XRDST\\r\\n'\n",
      "reply: retcode (250); Msg: b'FE-MBX2075.de.bosch.com Hello [10.35.29.9]\\nSIZE 37748736\\nPIPELINING\\nDSN\\nENHANCEDSTATUSCODES\\nAUTH NTLM LOGIN\\nX-EXPS GSSAPI NTLM\\n8BITMIME\\nBINARYMIME\\nCHUNKING\\nXRDST'\n",
      "send: 'AUTH LOGIN YmloMXd4\\r\\n'\n",
      "reply: b'334 UGFzc3dvcmQ6\\r\\n'\n",
      "reply: retcode (334); Msg: b'UGFzc3dvcmQ6'\n",
      "send: 'aWxvdmV4aWFveXVlMTIz\\r\\n'\n",
      "reply: b'235 2.7.0 Authentication successful\\r\\n'\n",
      "reply: retcode (235); Msg: b'2.7.0 Authentication successful'\n",
      "send: 'mail FROM:<haizhong.bian@cn.bosch.com> size=4990\\r\\n'\n",
      "reply: b'250 2.1.0 Sender OK\\r\\n'\n",
      "reply: retcode (250); Msg: b'2.1.0 Sender OK'\n",
      "send: 'rcpt TO:<haizhong.bian@cn.bosch.com>\\r\\n'\n",
      "reply: b'250 2.1.5 Recipient OK\\r\\n'\n",
      "reply: retcode (250); Msg: b'2.1.5 Recipient OK'\n",
      "send: 'data\\r\\n'\n",
      "reply: b'354 Start mail input; end with <CRLF>.<CRLF>\\r\\n'\n",
      "reply: retcode (354); Msg: b'Start mail input; end with <CRLF>.<CRLF>'\n",
      "data: (354, b'Start mail input; end with <CRLF>.<CRLF>')\n",
      "send: b'Content-Type: multipart/alternative; boundary=\"===============8264463511561573533==\"\\r\\nMIME-Version: 1.0\\r\\nTo: \"haizhong.bian@cn.bosch.com\" <haizhong.bian@cn.bosch.com>\\r\\nFrom: BianHaizhong <haizhong.bian@cn.bosch.com>\\r\\nSubject: 1000KM Complaint Warning\\r\\n\\r\\n--===============8264463511561573533==\\r\\nContent-Type: text/html; charset=\"utf-8\"\\r\\nMIME-Version: 1.0\\r\\nContent-Transfer-Encoding: base64\\r\\n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\\r\\nPC9wPgo8L2JvZHk+CjwvaHRtbD4K\\r\\n\\r\\n--===============8264463511561573533==--\\r\\n.\\r\\n'\n",
      "reply: b'250 2.6.0 <ecc274ec-ad26-412a-b27a-bd4d954426da@FE-MBX2075.de.bosch.com> [InternalId=235707805204533, Hostname=FE-MBX2075.de.bosch.com] 6237 bytes in 0.419, 14,506 KB/sec Queued mail for delivery\\r\\n'\n",
      "reply: retcode (250); Msg: b'2.6.0 <ecc274ec-ad26-412a-b27a-bd4d954426da@FE-MBX2075.de.bosch.com> [InternalId=235707805204533, Hostname=FE-MBX2075.de.bosch.com] 6237 bytes in 0.419, 14,506 KB/sec Queued mail for delivery'\n",
      "data: (250, b'2.6.0 <ecc274ec-ad26-412a-b27a-bd4d954426da@FE-MBX2075.de.bosch.com> [InternalId=235707805204533, Hostname=FE-MBX2075.de.bosch.com] 6237 bytes in 0.419, 14,506 KB/sec Queued mail for delivery')\n",
      "send: 'quit\\r\\n'\n",
      "reply: b'221 2.0.0 Service closing transmission channel\\r\\n'\n",
      "reply: retcode (221); Msg: b'2.0.0 Service closing transmission channel'\n"
     ]
    }
   ],
   "source": [
    "def filter_month(current_month : int):\n",
    "    if date.today().day > 20:\n",
    "        return current_month\n",
    "    else:\n",
    "        return current_month - 1\n",
    "Customer_summary_Output_By_FailMonth = pd.read_excel(os.path.join(xlsx_dir_path,\"Customer_summary_Output.xlsx\"))\n",
    "Customer_summary_Output_By_FailMonth = Customer_summary_Output_By_FailMonth[Customer_summary_Output_By_FailMonth.Mileage <= 1000]\n",
    "Customer_summary_Output_By_FailMonth['year'] = pd.to_datetime(Customer_summary_Output_By_FailMonth['Statistic month'], errors='coerce').dt.year\n",
    "Customer_summary_Output_By_FailMonth['month'] = pd.to_datetime(Customer_summary_Output_By_FailMonth['Statistic month'], errors='coerce').dt.month\n",
    "row_df = Customer_summary_Output_By_FailMonth[Customer_summary_Output_By_FailMonth.year == date.today().year]\n",
    "row_df = row_df[Customer_summary_Output_By_FailMonth.month == filter_month(date.today().month)]\n",
    "Customer_summary_Output_By_FailMonth = Customer_summary_Output_By_FailMonth[[\"Customer\", \"Statistic month\",\"Mileage\"]].groupby([\"Customer\", \"Statistic month\"]).count()\n",
    "Customer_summary_Output_By_FailMonth = Customer_summary_Output_By_FailMonth.rename(columns={\"Mileage\":\"Mil<1000 Qty\"})\n",
    "Customer_summary_Output_By_FailMonth = Customer_summary_Output_By_FailMonth.reset_index()\n",
    "\n",
    "Customer_summary_Output_By_FailMonth.loc[:,\"year\"] = Customer_summary_Output_By_FailMonth.loc[:,\"Statistic month\"].apply(lambda x:int(str(x)[:4]))\n",
    "Customer_summary_Output_By_FailMonth['year'] = pd.to_datetime(Customer_summary_Output_By_FailMonth['Statistic month'], errors='coerce').dt.year\n",
    "Customer_summary_Output_By_FailMonth['month'] = pd.to_datetime(Customer_summary_Output_By_FailMonth['Statistic month'], errors='coerce').dt.month\n",
    "\n",
    "Customer_summary_Output_By_FailMonth_year_complaint = Customer_summary_Output_By_FailMonth\n",
    "Customer_summary_Output_By_FailMonth_year_complaint.loc[:,\"current_year\"] = date.today().year\n",
    "Customer_summary_Output_By_FailMonth_year_complaint.loc[:,\"current_month\"] = date.today().month\n",
    "\n",
    "\n",
    "Customer_summary_Output_By_FailMonth_year_complaint.loc[:,\"current_month\"] = Customer_summary_Output_By_FailMonth_year_complaint.loc[:,\"current_month\"].apply(lambda x:filter_month(x))\n",
    "Customer_summary_Output_By_FailMonth_year_complaint = Customer_summary_Output_By_FailMonth_year_complaint[Customer_summary_Output_By_FailMonth_year_complaint.year == Customer_summary_Output_By_FailMonth_year_complaint.current_year]\n",
    "Customer_summary_Output_By_FailMonth_year_complaint = Customer_summary_Output_By_FailMonth_year_complaint[Customer_summary_Output_By_FailMonth_year_complaint.month == Customer_summary_Output_By_FailMonth_year_complaint.current_month]\n",
    "Customer_summary_Output_By_FailMonth_year_complaint.to_excel(os.path.join(xlsx_dir_path,\"Customer_summary_Output_By_FailMonth_year_complaint.xlsx\"))\n",
    "\n",
    "Customer_summary_Output_By_FailMonth_year_complaint = Customer_summary_Output_By_FailMonth_year_complaint[Customer_summary_Output_By_FailMonth_year_complaint.loc[:,\"Mil<1000 Qty\"] > 2]\n",
    "Customer_summary_Output_By_FailMonth_year_complaint = Customer_summary_Output_By_FailMonth_year_complaint.reset_index(drop=True).sort_values(\"Customer\")\n",
    "\n",
    "\n",
    "for customer in Customer_summary_Output_By_FailMonth_year_complaint.Customer.unique():\n",
    "    customer_df = Customer_summary_Output_By_FailMonth_year_complaint[Customer_summary_Output_By_FailMonth_year_complaint.Customer == customer]\n",
    "    report_text = \"\\n\"\n",
    "    report_list= []\n",
    "    for json_data in json.loads(customer_df.to_json(orient='records')):\n",
    "        Customer_Name = json_data[\"Customer\"]\n",
    "        # Product_Name = json_data[\"Product_Name\"]\n",
    "        current_year = json_data[\"year\"]\n",
    "        current_month = json_data[\"month\"]\n",
    "        failure_quantity =json_data[\"Mil<1000 Qty\"]\n",
    "        break\n",
    "    report_list.append(f\"{Customer_Name}客户 {current_year}年{current_month}月 1000KM失效={failure_quantity}\")\n",
    "    report_tuple = tuple(report_list)\n",
    "    report_text = report_text.join(report_tuple)\n",
    "    df2 = row_df[row_df.Customer == customer]\n",
    "    send_report(Subject=\"1000KM Complaint Warning\",content_1=f\"您好:\\n {report_text}, 已超过公司质量目标，请调查原因及制定改善措施，谢谢。\", df=customer_df,df2=df2,to_all=False)\n",
    "    time.sleep(10)"
   ]
  },
  {
   "cell_type": "code",
   "execution_count": 1,
   "metadata": {},
   "outputs": [
    {
     "ename": "NameError",
     "evalue": "name 'Customer_summary_Output_By_FailMonth_year_complaint' is not defined",
     "output_type": "error",
     "traceback": [
      "\u001b[1;31m---------------------------------------------------------------------------\u001b[0m",
      "\u001b[1;31mNameError\u001b[0m                                 Traceback (most recent call last)",
      "Cell \u001b[1;32mIn[1], line 1\u001b[0m\n\u001b[1;32m----> 1\u001b[0m \u001b[43mCustomer_summary_Output_By_FailMonth_year_complaint\u001b[49m\n",
      "\u001b[1;31mNameError\u001b[0m: name 'Customer_summary_Output_By_FailMonth_year_complaint' is not defined"
     ]
    }
   ],
   "source": [
    "Customer_summary_Output_By_FailMonth_year_complaint"
   ]
  },
  {
   "cell_type": "code",
   "execution_count": null,
   "metadata": {},
   "outputs": [],
   "source": [
    "Customer_summary_Output_By_FailMonth = pd.read_excel(os.path.join(xlsx_dir_path,\"Customer_summary_Output_By_FailMonth.xlsx\"))\n",
    "Customer_summary_Output_By_FailMonth = Customer_summary_Output_By_FailMonth[Customer_summary_Output_By_FailMonth.Fail_Month.notna()]\n",
    "Customer_summary_Output_By_FailMonth = Customer_summary_Output_By_FailMonth[Customer_summary_Output_By_FailMonth.TNS_QTY.notna()]\n",
    "Customer_summary_Output_By_FailMonth = Customer_summary_Output_By_FailMonth[Customer_summary_Output_By_FailMonth.Totol_Cost_Sum.notna()]\n",
    "Customer_summary_Output_By_FailMonth.loc[:,\"year\"] = Customer_summary_Output_By_FailMonth.loc[:,\"Fail_Month\"].apply(lambda x:int(str(x)[:4]))\n",
    "Customer_summary_Output_By_FailMonth.loc[:,\"month\"] = Customer_summary_Output_By_FailMonth.loc[:,\"Fail_Month\"].apply(lambda x:int(str(x)[5:7]))\n",
    "Customer_summary_Output_By_FailMonth_exchange = Customer_summary_Output_By_FailMonth[[\"Customer_Name\",\"Product_Name\",\"Fail QYT\",\"year\",\"month\"]].groupby(by=[\"Customer_Name\",\"Product_Name\",\"year\",\"month\"]).sum()\n",
    "Customer_summary_Output_By_FailMonth_exchange.loc[:,\"current_year\"] = date.today().year\n",
    "Customer_summary_Output_By_FailMonth_exchange.loc[:,\"current_month\"] = date.today().month\n",
    "Customer_summary_Output_By_FailMonth_exchange = Customer_summary_Output_By_FailMonth_exchange[(Customer_summary_Output_By_FailMonth_exchange.index.get_level_values(\"year\") == Customer_summary_Output_By_FailMonth_exchange.current_year) | (Customer_summary_Output_By_FailMonth_exchange.index.get_level_values(\"year\") == Customer_summary_Output_By_FailMonth_exchange.current_year - 1)]\n",
    "\n",
    "Customer_summary_Output_By_FailMonth_exchange = Customer_summary_Output_By_FailMonth_exchange.reset_index().sort_values(\"Customer_Name\")\n",
    "\n",
    "Customer_Name = list(Customer_summary_Output_By_FailMonth_exchange.Customer_Name.unique())\n",
    "Product_Name = list(Customer_summary_Output_By_FailMonth_exchange.Product_Name.unique())\n",
    "year = list(Customer_summary_Output_By_FailMonth_exchange.year.unique())\n",
    "month = [x for x in range(1,13)]\n",
    "master_df = pd.DataFrame(list(product(Customer_Name, Product_Name, year, month)), columns=[\"Customer_Name\", \"Product_Name\", \"year\", \"month\"])\n",
    "Customer_summary_Output_By_FailMonth_exchange = Customer_summary_Output_By_FailMonth_exchange.merge(master_df,on=[\"Customer_Name\", \"Product_Name\", \"year\", \"month\"],how=\"right\")\n",
    "Customer_summary_Output_By_FailMonth_exchange = Customer_summary_Output_By_FailMonth_exchange.sort_values([\"Customer_Name\",\"Product_Name\",\"year\",\"month\"])\n",
    "Customer_summary_Output_By_FailMonth_exchange.loc[:,\"Fail QYT\"] = Customer_summary_Output_By_FailMonth_exchange.loc[:,\"Fail QYT\"].fillna(0)\n",
    "Customer_summary_Output_By_FailMonth_exchange = Customer_summary_Output_By_FailMonth_exchange.ffill()\n",
    "Customer_summary_Output_By_FailMonth_exchange = Customer_summary_Output_By_FailMonth_exchange.bfill()\n",
    "Customer_summary_Output_By_FailMonth_exchange.loc[:,\"incremental\"] = Customer_summary_Output_By_FailMonth_exchange.groupby([\"Customer_Name\",\"Product_Name\"])[\"Fail QYT\"].diff()\n",
    "\n",
    "def filter_month(current_month : int):\n",
    "    if date.today().day > 20:\n",
    "        return [current_month - 1, current_month]\n",
    "    else:\n",
    "        return [current_month - 2, current_month - 1]\n",
    "\n",
    "Customer_summary_Output_By_FailMonth_exchange.loc[:,\"current_month\"] = Customer_summary_Output_By_FailMonth_exchange.loc[:,\"current_month\"].apply(lambda x:filter_month(x))\n",
    "Customer_summary_Output_By_FailMonth_exchange_2month = Customer_summary_Output_By_FailMonth_exchange[Customer_summary_Output_By_FailMonth_exchange.month.isin(Customer_summary_Output_By_FailMonth_exchange.loc[:,\"current_month\"].drop_duplicates().values[0])]\n",
    "Customer_summary_Output_By_FailMonth_exchange_2month = Customer_summary_Output_By_FailMonth_exchange_2month.groupby([\"Customer_Name\",\"year\",\"Product_Name\"]).min()[[\"incremental\"]]\n",
    "Customer_summary_Output_By_FailMonth_exchange_2month = Customer_summary_Output_By_FailMonth_exchange_2month[Customer_summary_Output_By_FailMonth_exchange_2month.index.get_level_values(\"year\") == date.today().year]\n",
    "Customer_summary_Output_By_FailMonth_exchange_2month.loc[:,\"month\"] = max(Customer_summary_Output_By_FailMonth_exchange.loc[:,\"current_month\"].drop_duplicates().values[0])\n",
    "Customer_summary_Output_By_FailMonth_exchange_2month.to_excel(\"C:\\disk\\AI\\ATS_EDC_EWS\\data_for_power_bi\\Customer_summary_Output_By_FailMonth_exchange_2month.xlsx\")\n",
    "Customer_summary_Output_By_FailMonth_exchange_2month = Customer_summary_Output_By_FailMonth_exchange_2month[Customer_summary_Output_By_FailMonth_exchange_2month.incremental > 0]\n",
    "Customer_summary_Output_By_FailMonth_exchange_2month = Customer_summary_Output_By_FailMonth_exchange_2month.reset_index().sort_values(\"Customer_Name\")\n",
    "\n",
    "Customer_summary_Output_By_FailMonth_exchange_12month = Customer_summary_Output_By_FailMonth_exchange\n",
    "Customer_summary_Output_By_FailMonth_exchange_12month.loc[:,\"current_month\"] = max(Customer_summary_Output_By_FailMonth_exchange.loc[:,\"current_month\"].drop_duplicates().values[0])\n",
    "df = Customer_summary_Output_By_FailMonth_exchange_12month\n",
    "# Assume df is your DataFrame\n",
    "df['date'] = pd.to_datetime(df['year'].astype(int).astype(str) + '-' + df['month'].astype(int).astype(str) + '-01')\n",
    "df['current_date'] = pd.to_datetime(df['current_year'].astype(int).astype(str) + '-' + df['current_month'].astype(int).astype(str) + '-01')\n",
    "\n",
    "# Filter rows where 'date' is within 12 months before 'current_date'\n",
    "mask = df['date'] > df['current_date'] - timedelta(days=365)\n",
    "df_12m = df[mask].copy()\n",
    "\n",
    "# Group by keys and compute average of previous 12 months\n",
    "avg_df = (\n",
    "    df_12m\n",
    "    .groupby(['Customer_Name', 'Product_Name', 'current_year', 'current_month'])['Fail QYT']\n",
    "    .mean()\n",
    "    .reset_index()\n",
    "    .rename(columns={'Fail QYT': 'last_12_month'})\n",
    ")\n",
    "\n",
    "# Keep only rows that match current_year and current_month\n",
    "df_current = df[\n",
    "    (df['year'] == df['current_year']) & \n",
    "    (df['month'] == df['current_month'])\n",
    "].copy()\n",
    "\n",
    "# Merge the calculated average into current-month rows\n",
    "final_df = pd.merge(df_current, avg_df, on=['Customer_Name', 'Product_Name', 'current_year', 'current_month'], how='left')\n",
    "\n",
    "# Drop helper columns if not needed\n",
    "final_df.drop(columns=['date', 'current_date'], errors='ignore', inplace=True)\n",
    "\n",
    "# Final result\n",
    "final_df\n",
    "final_df.to_excel(\"C:\\disk\\AI\\ATS_EDC_EWS\\data_for_power_bi\\Customer_summary_Output_By_FailMonth_exchange_12month.xlsx\")\n",
    "Customer_summary_Output_By_FailMonth_exchange_12month = final_df[final_df.last_12_month < final_df.loc[:,\"Fail QYT\"]]\n"
   ]
  },
  {
   "cell_type": "code",
   "execution_count": null,
   "metadata": {},
   "outputs": [],
   "source": [
    "for customer in Customer_summary_Output_By_FailMonth_exchange_2month.Customer_Name.unique():\n",
    "    customer_df = Customer_summary_Output_By_FailMonth_exchange_2month[Customer_summary_Output_By_FailMonth_exchange_2month.Customer_Name == customer].reset_index(drop=True)\n",
    "    report_text = \"\\n\"\n",
    "    report_list= []\n",
    "    for json_data in json.loads(customer_df.to_json(orient='records')):\n",
    "        Customer_Name = json_data[\"Customer_Name\"]\n",
    "        Product_Name = json_data[\"Product_Name\"]\n",
    "        current_year = json_data[\"year\"]\n",
    "        current_month = json_data[\"month\"]\n",
    "        break\n",
    "    report_list.append(f\"{Customer_Name}客户 {current_year}年{current_month}月 连续两个月换件数量增加\")\n",
    "    report_tuple = tuple(report_list)\n",
    "    report_text = report_text.join(report_tuple)\n",
    "    send_report(Subject=\"换件数量监控\",content_1=f\"您好:\\n {report_text}, 已超过公司质量目标，请调查原因及制定改善措施，谢谢。\", df=customer_df,to_all=True)\n",
    "    time.sleep(10)"
   ]
  },
  {
   "cell_type": "code",
   "execution_count": null,
   "metadata": {},
   "outputs": [],
   "source": [
    "for customer in Customer_summary_Output_By_FailMonth_exchange_12month.Customer_Name.unique():\n",
    "    customer_df = Customer_summary_Output_By_FailMonth_exchange_12month[Customer_summary_Output_By_FailMonth_exchange_12month.Customer_Name == customer]\n",
    "    report_text = \"\\n\"\n",
    "    report_list= []\n",
    "    for json_data in json.loads(customer_df.to_json(orient='records')):\n",
    "        Customer_Name = json_data[\"Customer_Name\"]\n",
    "        Product_Name = json_data[\"Product_Name\"]\n",
    "        current_year = json_data[\"year\"]\n",
    "        current_month = json_data[\"month\"]\n",
    "        break\n",
    "    report_list.append(f\"{Customer_Name}客户 {Product_Name}产品 {current_year}年{current_month}月 换件数量超过过去12月平均值\")\n",
    "    report_tuple = tuple(report_list)\n",
    "    report_text = report_text.join(report_tuple)\n",
    "    send_report(Subject=\"换件数量监控\",content_1=f\"您好:\\n {report_text}, 已超过公司质量目标，请调查原因及制定改善措施，谢谢。\",df=customer_df, to_all=True)\n"
   ]
  },
  {
   "cell_type": "code",
   "execution_count": null,
   "metadata": {},
   "outputs": [],
   "source": [
    "df.dtypes"
   ]
  },
  {
   "cell_type": "code",
   "execution_count": null,
   "metadata": {},
   "outputs": [],
   "source": [
    "df = Customer_summary_Output_By_FailMonth_exchange_12month[Customer_summary_Output_By_FailMonth_exchange_12month.month == 6].sort_values(\"Fail QYT\")\n",
    "df[df.year == 2025]"
   ]
  },
  {
   "cell_type": "code",
   "execution_count": null,
   "metadata": {},
   "outputs": [],
   "source": [
    "# Customer_summary_Output_By_FailMonth_exchange\n",
    "# def filter_last_12month(df, x):\n",
    "#     temp_df = df[df]\n",
    "\n",
    "Customer_summary_Output_By_FailMonth_exchange_12month = Customer_summary_Output_By_FailMonth_exchange[Customer_summary_Output_By_FailMonth_exchange.month == max((Customer_summary_Output_By_FailMonth_exchange.loc[:,\"current_month\"].drop_duplicates().values[0]))]"
   ]
  },
  {
   "cell_type": "code",
   "execution_count": null,
   "metadata": {},
   "outputs": [],
   "source": [
    "Customer_summary_Output_By_FailMonth_exchange.month.isin(Customer_summary_Output_By_FailMonth_exchange.loc[:,\"current_month\"].drop_duplicates().values[0]).value_counts()"
   ]
  },
  {
   "cell_type": "code",
   "execution_count": null,
   "metadata": {},
   "outputs": [],
   "source": [
    "Customer_summary_Output_By_FailMonth_exchange[(Customer_summary_Output_By_FailMonth_exchange.Customer_Name == \"JMC\") & (Customer_summary_Output_By_FailMonth_exchange.year == 2025)][-20:]"
   ]
  },
  {
   "cell_type": "code",
   "execution_count": null,
   "metadata": {},
   "outputs": [],
   "source": [
    "report_text"
   ]
  },
  {
   "cell_type": "code",
   "execution_count": null,
   "metadata": {},
   "outputs": [],
   "source": [
    "json.loads(Customer_summary_Output_By_FailMonth_year_complaint.to_json(orient='records'))"
   ]
  },
  {
   "cell_type": "code",
   "execution_count": null,
   "metadata": {},
   "outputs": [],
   "source": [
    "Customer_summary_Output_By_FailMonth"
   ]
  },
  {
   "cell_type": "code",
   "execution_count": null,
   "metadata": {},
   "outputs": [],
   "source": [
    "Customer_summary_Output_By_FailMonth_year_complaint.reset_index().sort_values(\"Customer_Name\")"
   ]
  }
 ],
 "metadata": {
  "kernelspec": {
   "display_name": "env",
   "language": "python",
   "name": "python3"
  },
  "language_info": {
   "codemirror_mode": {
    "name": "ipython",
    "version": 3
   },
   "file_extension": ".py",
   "mimetype": "text/x-python",
   "name": "python",
   "nbconvert_exporter": "python",
   "pygments_lexer": "ipython3",
   "version": "3.9.17"
  }
 },
 "nbformat": 4,
 "nbformat_minor": 2
}
